{
 "cells": [
  {
   "cell_type": "code",
   "execution_count": 92,
   "metadata": {},
   "outputs": [],
   "source": [
    "URL = 'https://tramitesadistancia.gob.ar/tramitesadistancia/tad-publico'\n",
    "N_TRÁMITES = 50"
   ]
  },
  {
   "cell_type": "code",
   "execution_count": 2,
   "metadata": {},
   "outputs": [],
   "source": [
    "import time\n",
    "from selenium import webdriver\n",
    "from selenium.webdriver.common.keys import Keys\n",
    "\n",
    "driver = webdriver.Firefox()"
   ]
  },
  {
   "cell_type": "code",
   "execution_count": 93,
   "metadata": {},
   "outputs": [
    {
     "name": "stdout",
     "output_type": "stream",
     "text": [
      "00 — Importación de vinos\n",
      "01 — Importación de alcohol\n",
      "02 — Inscripción como Exportador y/o importador de vinos y mostos\n",
      "03 — Inscripción como Fabricante de Productos de Uso Enológico\n",
      "04 — Importación de pequeños volúmenes de vino\n",
      "05 — Declaración de marcas\n",
      "06 — Medidas de excepción\n",
      "07 — Solicitud de división de viñedos por el vendedor\n",
      "08 — Solicitud de división de viñedos\n",
      "09 — Actualización del registro de viñedos\n",
      "10 — Solicitud de baja a la inscripción de un viñedo\n",
      "11 — Pago y/o presentación de tasa de 2% de metanol\n",
      "12 — Eliminación a pedido del interesado\n",
      "13 — Solicitud por extravio\n",
      "14 — Solicitudes varias\n",
      "15 — Convenio de corresponsabilidad Gremial-Presentación espontanea\n",
      "16 — Presentación de defensa art 27 de la ley N°14878 y/o 32 de la ley 24566\n",
      "17 — Solicitud de permiso de incineración de alcohol\n",
      "18 — Inscripción prestador de servicio fraccionador móvil de espumoso\n",
      "19 — Inscripción como técnico\n",
      "20 — Inscripción de Frigoríficos\n",
      "21 — Denuncia leyes N°14878 y/o 24566 y/o 25163\n",
      "22 — Régimen voluntario de reconocimiento de infracciones a las leyes 14878 y 24566\n",
      "23 — Derecho de uso de una indicación geográfica para establecimientos vitivinícolas\n",
      "24 — Derecho de uso para una indicación geográfica para viñedos\n",
      "25 — Inscripción como Distribuidor de uva en fresco y Secadero\n",
      "26 — Inscripción de fabricantes, importadores, comerciantes y distribuidores de productos y/o elementos de uso enológico destinados a bodegas, planta de fraccionamiento, fábricas de mostos, fábricas de vinos espumosos, fábricas de otros productos\n",
      "27 — Solicitud de registración de marca de productos vínicos por los establecimientos\n",
      "28 — Solicitud aprobación de practica enológica\n",
      "29 — Registro, protección y derecho a uso de una denominación de origen controlada (D.O.C)\n",
      "30 — Nuevo régimen de elaboración de vino casero\n",
      "31 — Registro de inscripción y presentación de servicio de fraccionamiento móvil\n",
      "32 — Aprobación e inscripción de Productos de uso enológicos\n",
      "33 — Nuevo régimen de elaboradores de vino artesanal\n",
      "34 — Inscripción como planta de almacenaje de metanol\n",
      "35 — Inscripción como manipulador de alcoholes etílicos desnaturalizados para carburantes\n",
      "36 — Inscripción como fraccionador/comerciante de metanol\n",
      "37 — Inscripción como manipulador de alcohol etílico\n",
      "38 — Inscripción como fabricante de metanol\n",
      "39 — Inscripción como destilador del alcohol etílico\n",
      "40 — Inscripción como fraccionador/comerciante de alcohol etílico\n",
      "41 — Fraccionador de Alcohol Etílico Desnaturalizado uso Doméstico\n",
      "42 — Inscripción como anhidradora\n",
      "43 — Inscripción como planta de almacenaje de alcohol etílico\n",
      "44 — Inscripción de Bodega, Fábrica de Mostos, Fábrica de Vinos Espumantes, Fábrica de Otros Productos ( Cóctel, Vino Gasificado), Plantas de Fraccionamiento\n",
      "45 — Unificación de viñedos\n",
      "46 — Inscripción de Viñedos\n",
      "47 — Inscripción como manipulador de metanol\n",
      "48 — Reconocimiento, registro y protección de una nueva indicación geografica (I.G)\n",
      "49 — Solicitud de Exportación de Alcoholes\n"
     ]
    }
   ],
   "source": [
    "trámites = []\n",
    "\n",
    "for n in range(N_TRÁMITES):\n",
    "    driver.get(URL)\n",
    "    time.sleep(5)\n",
    "    \n",
    "    driver.find_element_by_partial_link_text('Instituto Nacional de Vitivinicultura - INV').click()\n",
    "    time.sleep(5)\n",
    "\n",
    "    driver.find_element_by_xpath(\"//option[text()='Todos']\").click()\n",
    "    time.sleep(5)\n",
    "    \n",
    "    driver.find_elements_by_xpath(\"//span[@role='button']/h3\")[n].click()\n",
    "    time.sleep(5)\n",
    "    \n",
    "    resultado = {}\n",
    "\n",
    "    título = driver.find_element_by_css_selector('article h1')\n",
    "    resultado['título'] = título.text\n",
    "\n",
    "    organismos = título.find_element_by_xpath('./following-sibling::p')\n",
    "    resultado['organismos'] = organismos.text\n",
    "\n",
    "    descripción = organismos.find_element_by_xpath('./following-sibling::p')\n",
    "    resultado['descripción'] = descripción.text\n",
    "    \n",
    "    print(f'{n:02} — {título.text}')\n",
    "    \n",
    "    trámites.append(resultado)"
   ]
  },
  {
   "cell_type": "code",
   "execution_count": 94,
   "metadata": {},
   "outputs": [],
   "source": [
    "assert len(trámites) == N_TRÁMITES\n",
    "driver.close()"
   ]
  },
  {
   "cell_type": "code",
   "execution_count": 104,
   "metadata": {},
   "outputs": [
    {
     "data": {
      "text/html": [
       "<div>\n",
       "<style scoped>\n",
       "    .dataframe tbody tr th:only-of-type {\n",
       "        vertical-align: middle;\n",
       "    }\n",
       "\n",
       "    .dataframe tbody tr th {\n",
       "        vertical-align: top;\n",
       "    }\n",
       "\n",
       "    .dataframe thead th {\n",
       "        text-align: right;\n",
       "    }\n",
       "</style>\n",
       "<table border=\"1\" class=\"dataframe\">\n",
       "  <thead>\n",
       "    <tr style=\"text-align: right;\">\n",
       "      <th></th>\n",
       "      <th>descripción</th>\n",
       "      <th>organismos</th>\n",
       "      <th>título</th>\n",
       "    </tr>\n",
       "  </thead>\n",
       "  <tbody>\n",
       "    <tr>\n",
       "      <th>0</th>\n",
       "      <td>Toda Persona Física o Jurídica que pretenda im...</td>\n",
       "      <td>#Ventanilla Única de Comercio Exterior - VUCE ...</td>\n",
       "      <td>Importación de vinos</td>\n",
       "    </tr>\n",
       "    <tr>\n",
       "      <th>1</th>\n",
       "      <td>Toda Persona Física o Jurídica que pretenda im...</td>\n",
       "      <td>#Ventanilla Única de Comercio Exterior - VUCE ...</td>\n",
       "      <td>Importación de alcohol</td>\n",
       "    </tr>\n",
       "    <tr>\n",
       "      <th>2</th>\n",
       "      <td>Para poder exportar productos vitivinícolas (d...</td>\n",
       "      <td>#Ventanilla Única de Comercio Exterior - VUCE ...</td>\n",
       "      <td>Inscripción como Exportador y/o importador de ...</td>\n",
       "    </tr>\n",
       "    <tr>\n",
       "      <th>3</th>\n",
       "      <td>Para poder exportar productos vitivinícolas (d...</td>\n",
       "      <td>#Instituto Nacional de Vitivinicultura - INV #...</td>\n",
       "      <td>Inscripción como Fabricante de Productos de Us...</td>\n",
       "    </tr>\n",
       "    <tr>\n",
       "      <th>4</th>\n",
       "      <td>Toda Persona Física o Jurídica que pretenda im...</td>\n",
       "      <td>#Instituto Nacional de Vitivinicultura - INV #...</td>\n",
       "      <td>Importación de pequeños volúmenes de vino</td>\n",
       "    </tr>\n",
       "  </tbody>\n",
       "</table>\n",
       "</div>"
      ],
      "text/plain": [
       "                                         descripción  \\\n",
       "0  Toda Persona Física o Jurídica que pretenda im...   \n",
       "1  Toda Persona Física o Jurídica que pretenda im...   \n",
       "2  Para poder exportar productos vitivinícolas (d...   \n",
       "3  Para poder exportar productos vitivinícolas (d...   \n",
       "4  Toda Persona Física o Jurídica que pretenda im...   \n",
       "\n",
       "                                          organismos  \\\n",
       "0  #Ventanilla Única de Comercio Exterior - VUCE ...   \n",
       "1  #Ventanilla Única de Comercio Exterior - VUCE ...   \n",
       "2  #Ventanilla Única de Comercio Exterior - VUCE ...   \n",
       "3  #Instituto Nacional de Vitivinicultura - INV #...   \n",
       "4  #Instituto Nacional de Vitivinicultura - INV #...   \n",
       "\n",
       "                                              título  \n",
       "0                               Importación de vinos  \n",
       "1                             Importación de alcohol  \n",
       "2  Inscripción como Exportador y/o importador de ...  \n",
       "3  Inscripción como Fabricante de Productos de Us...  \n",
       "4          Importación de pequeños volúmenes de vino  "
      ]
     },
     "execution_count": 104,
     "metadata": {},
     "output_type": "execute_result"
    }
   ],
   "source": [
    "import pandas as pd\n",
    "\n",
    "df = pd.DataFrame.from_records(trámites)\n",
    "df.head()"
   ]
  },
  {
   "cell_type": "code",
   "execution_count": 6,
   "metadata": {},
   "outputs": [],
   "source": [
    "df.to_csv('trámites_crudos.csv', index=False)"
   ]
  }
 ],
 "metadata": {
  "kernelspec": {
   "display_name": "Python 3",
   "language": "python",
   "name": "python3"
  },
  "language_info": {
   "codemirror_mode": {
    "name": "ipython",
    "version": 3
   },
   "file_extension": ".py",
   "mimetype": "text/x-python",
   "name": "python",
   "nbconvert_exporter": "python",
   "pygments_lexer": "ipython3",
   "version": "3.7.3"
  }
 },
 "nbformat": 4,
 "nbformat_minor": 4
}
