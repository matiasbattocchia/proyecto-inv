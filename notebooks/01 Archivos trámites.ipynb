{
 "cells": [
  {
   "cell_type": "code",
   "execution_count": 858,
   "metadata": {},
   "outputs": [
    {
     "data": {
      "text/html": [
       "<div>\n",
       "<style scoped>\n",
       "    .dataframe tbody tr th:only-of-type {\n",
       "        vertical-align: middle;\n",
       "    }\n",
       "\n",
       "    .dataframe tbody tr th {\n",
       "        vertical-align: top;\n",
       "    }\n",
       "\n",
       "    .dataframe thead th {\n",
       "        text-align: right;\n",
       "    }\n",
       "</style>\n",
       "<table border=\"1\" class=\"dataframe\">\n",
       "  <thead>\n",
       "    <tr style=\"text-align: right;\">\n",
       "      <th></th>\n",
       "      <th>descripción</th>\n",
       "      <th>organismos</th>\n",
       "      <th>título</th>\n",
       "    </tr>\n",
       "  </thead>\n",
       "  <tbody>\n",
       "    <tr>\n",
       "      <th>0</th>\n",
       "      <td>Toda Persona Física o Jurídica que pretenda im...</td>\n",
       "      <td>#Ventanilla Única de Comercio Exterior - VUCE ...</td>\n",
       "      <td>Importación de vinos</td>\n",
       "    </tr>\n",
       "    <tr>\n",
       "      <th>1</th>\n",
       "      <td>Toda Persona Física o Jurídica que pretenda im...</td>\n",
       "      <td>#Ventanilla Única de Comercio Exterior - VUCE ...</td>\n",
       "      <td>Importación de alcohol</td>\n",
       "    </tr>\n",
       "    <tr>\n",
       "      <th>2</th>\n",
       "      <td>Para poder exportar productos vitivinícolas (d...</td>\n",
       "      <td>#Ventanilla Única de Comercio Exterior - VUCE ...</td>\n",
       "      <td>Inscripción como Exportador y/o importador de ...</td>\n",
       "    </tr>\n",
       "    <tr>\n",
       "      <th>3</th>\n",
       "      <td>Para poder exportar productos vitivinícolas (d...</td>\n",
       "      <td>#Instituto Nacional de Vitivinicultura - INV #...</td>\n",
       "      <td>Inscripción como Fabricante de Productos de Us...</td>\n",
       "    </tr>\n",
       "    <tr>\n",
       "      <th>4</th>\n",
       "      <td>Toda Persona Física o Jurídica que pretenda im...</td>\n",
       "      <td>#Instituto Nacional de Vitivinicultura - INV #...</td>\n",
       "      <td>Importación de pequeños volúmenes de vino</td>\n",
       "    </tr>\n",
       "  </tbody>\n",
       "</table>\n",
       "</div>"
      ],
      "text/plain": [
       "                                         descripción  \\\n",
       "0  Toda Persona Física o Jurídica que pretenda im...   \n",
       "1  Toda Persona Física o Jurídica que pretenda im...   \n",
       "2  Para poder exportar productos vitivinícolas (d...   \n",
       "3  Para poder exportar productos vitivinícolas (d...   \n",
       "4  Toda Persona Física o Jurídica que pretenda im...   \n",
       "\n",
       "                                          organismos  \\\n",
       "0  #Ventanilla Única de Comercio Exterior - VUCE ...   \n",
       "1  #Ventanilla Única de Comercio Exterior - VUCE ...   \n",
       "2  #Ventanilla Única de Comercio Exterior - VUCE ...   \n",
       "3  #Instituto Nacional de Vitivinicultura - INV #...   \n",
       "4  #Instituto Nacional de Vitivinicultura - INV #...   \n",
       "\n",
       "                                              título  \n",
       "0                               Importación de vinos  \n",
       "1                             Importación de alcohol  \n",
       "2  Inscripción como Exportador y/o importador de ...  \n",
       "3  Inscripción como Fabricante de Productos de Us...  \n",
       "4          Importación de pequeños volúmenes de vino  "
      ]
     },
     "execution_count": 858,
     "metadata": {},
     "output_type": "execute_result"
    }
   ],
   "source": [
    "import pandas as pd\n",
    "\n",
    "df = pd.read_csv('trámites_crudos.csv')\n",
    "df.head()"
   ]
  },
  {
   "cell_type": "code",
   "execution_count": 859,
   "metadata": {},
   "outputs": [],
   "source": [
    "import re\n",
    "\n",
    "def arreglar_texto(s):\n",
    "    s = s.lower()\n",
    "    \n",
    "    # acrónimos\n",
    "    s = re.sub(r'(?<=\\W)(instituto nacional de vitivinicultura|inv|i.n.v.|i.n.v)(?=\\W)', 'INV', s)\n",
    "    s = re.sub(r'(?<=\\W)(cuit|c.u.i.t.|c.u.i.t)(?=\\W)', 'CUIT', s)\n",
    "    s = re.sub(r'(?<=\\W)(ig|i.g.|i.g)(?=\\W)', 'IG', s)\n",
    "    s = re.sub(r'(?<=\\W)(doc|d.o.c.|d.o.c)(?=\\W)', 'DOC', s)\n",
    "    \n",
    "    # repetitivo\n",
    "    s = re.sub('para realizar el tr(á|a)mite (debe|deberá) adjuntar la siguiente documentaci(ó|o)n:', '', s)\n",
    "    \n",
    "    # falso interlineado\n",
    "    s = re.sub(r'(?<!.)\\n', ' ', s)\n",
    "    \n",
    "    # espacios y saltos de línea extras\n",
    "    #s = re.sub(r'(?<=\\w)\\n+(?=\\w)', ' ', s)\n",
    "    s = re.sub(r'^\\s+', '', s)\n",
    "    s = re.sub(r' +', ' ', s)\n",
    "    s = re.sub(r'\\n *', '\\n', s)\n",
    "    s = re.sub(r'\\n+', '\\n', s)\n",
    "    \n",
    "    # puntuación\n",
    "    s = re.sub(r' +(?=[,.:)])', '', s)\n",
    "    s = re.sub(r'(?<=\\() +', '', s)\n",
    "    \n",
    "    # párrafos\n",
    "    s = re.sub(r'\\n', '\\n\\n', s)\n",
    "    \n",
    "    # abreviaciones\n",
    "    s = re.sub(r'(nº|n°) *', 'nº ', s)\n",
    "    \n",
    "    \n",
    "    # mayúsculas\n",
    "    callback = lambda match: match.group(0).upper()\n",
    "    s = re.sub(r'(?<=\\. )\\w', callback, s)\n",
    "    s = re.sub(r'(?<=\\n)\\w', callback, s)\n",
    "    s = re.sub(r'^\\w', callback, s)\n",
    "    \n",
    "    return s"
   ]
  },
  {
   "cell_type": "code",
   "execution_count": 860,
   "metadata": {},
   "outputs": [],
   "source": [
    "df.título = df.título.apply(arreglar_texto)\n",
    "df.descripción = df.descripción.apply(arreglar_texto)"
   ]
  },
  {
   "cell_type": "code",
   "execution_count": 862,
   "metadata": {},
   "outputs": [],
   "source": [
    "df.drop(columns='organismos', inplace=True)"
   ]
  },
  {
   "cell_type": "code",
   "execution_count": 879,
   "metadata": {},
   "outputs": [],
   "source": [
    "from pathlib import Path\n",
    "\n",
    "carpeta = Path('trámites')\n",
    "carpeta.mkdir(parents=True, exist_ok=True)"
   ]
  },
  {
   "cell_type": "code",
   "execution_count": 887,
   "metadata": {},
   "outputs": [],
   "source": [
    "for _, trámite in df.iterrows():\n",
    "    \n",
    "    nombre_archivo = (\n",
    "        '_'.join(\n",
    "            trámite.título\n",
    "            .lower()\n",
    "            .replace('/', '_')\n",
    "            .replace(',', '')\n",
    "            .split(' ')\n",
    "            [:7]\n",
    "        )\n",
    "        + '.md'\n",
    "    )\n",
    "    \n",
    "    with open(carpeta / nombre_archivo, 'w') as f:\n",
    "        f.write('# ' + trámite.título + '\\n\\n')\n",
    "        f.write(trámite.descripción)"
   ]
  }
 ],
 "metadata": {
  "kernelspec": {
   "display_name": "Python 3",
   "language": "python",
   "name": "python3"
  },
  "language_info": {
   "codemirror_mode": {
    "name": "ipython",
    "version": 3
   },
   "file_extension": ".py",
   "mimetype": "text/x-python",
   "name": "python",
   "nbconvert_exporter": "python",
   "pygments_lexer": "ipython3",
   "version": "3.7.3"
  }
 },
 "nbformat": 4,
 "nbformat_minor": 4
}
